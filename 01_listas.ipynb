{
  "nbformat": 4,
  "nbformat_minor": 0,
  "metadata": {
    "colab": {
      "provenance": [],
      "mount_file_id": "1APPQOOvY_4a_N9VPdia-YY4xMM1WHTB6",
      "authorship_tag": "ABX9TyMKNmIuLMroWJbR6fhA+kvR",
      "include_colab_link": true
    },
    "kernelspec": {
      "name": "python3",
      "display_name": "Python 3"
    },
    "language_info": {
      "name": "python"
    }
  },
  "cells": [
    {
      "cell_type": "markdown",
      "metadata": {
        "id": "view-in-github",
        "colab_type": "text"
      },
      "source": [
        "<a href=\"https://colab.research.google.com/github/hugojesusmr/ApiRestMapStruct/blob/master/01_listas.ipynb\" target=\"_parent\"><img src=\"https://colab.research.google.com/assets/colab-badge.svg\" alt=\"Open In Colab\"/></a>"
      ]
    },
    {
      "cell_type": "markdown",
      "source": [
        "#Listas `- list`\n",
        "\n",
        "<!-- Las listas son estrucuras de datos es un (contenedor o repositorio) de diferentes tipos para almacenar un conjunto de elementos. -->\n",
        "\n",
        " * Se organiza de forma secuencial.\n",
        " * Una lista se puede crear a partir de la clase  `list()`\n",
        "\n",
        "\n",
        "\n",
        "\n",
        "\n",
        "\n",
        "\n"
      ],
      "metadata": {
        "id": "YpBeqPq0vsyf"
      }
    },
    {
      "cell_type": "code",
      "execution_count": null,
      "metadata": {
        "id": "W0LGdBZyvmQR",
        "colab": {
          "base_uri": "https://localhost:8080/"
        },
        "outputId": "6b0b19ea-35d2-49e9-a18e-ab80c84f3135"
      },
      "outputs": [
        {
          "output_type": "execute_result",
          "data": {
            "text/plain": [
              "['Go', 'Python', 'Java', 'C']"
            ]
          },
          "metadata": {},
          "execution_count": 2
        }
      ],
      "source": [
        "lenguajes = ['Go','Python','Java','C']\n",
        "lenguajes"
      ]
    },
    {
      "cell_type": "code",
      "source": [
        "#Mostrar el tipo de datos\n",
        "type(lenguajes)"
      ],
      "metadata": {
        "colab": {
          "base_uri": "https://localhost:8080/"
        },
        "id": "wZYkEXzuzdVM",
        "outputId": "6f5b0c55-5f9b-4fd9-b7c0-9ece72dcee77"
      },
      "execution_count": null,
      "outputs": [
        {
          "output_type": "execute_result",
          "data": {
            "text/plain": [
              "list"
            ]
          },
          "metadata": {},
          "execution_count": 3
        }
      ]
    },
    {
      "cell_type": "markdown",
      "source": [
        "Función `len()`\n",
        "Permite mostrar la cantidad de elementos que contiene la lista"
      ],
      "metadata": {
        "id": "gkH8xWMZzqhq"
      }
    },
    {
      "cell_type": "code",
      "source": [
        "#Mostrar la cantidad de elementos que tiene la lista\n",
        "len(lenguajes)"
      ],
      "metadata": {
        "colab": {
          "base_uri": "https://localhost:8080/"
        },
        "id": "k1y2QUNxzliD",
        "outputId": "021d20d7-05f0-42b0-9dc9-7a359982f046"
      },
      "execution_count": null,
      "outputs": [
        {
          "output_type": "execute_result",
          "data": {
            "text/plain": [
              "4"
            ]
          },
          "metadata": {},
          "execution_count": 4
        }
      ]
    },
    {
      "cell_type": "markdown",
      "source": [
        "# Función `list.append()`\n",
        "\n",
        "Permite agregar un nuevo elemento a la lista"
      ],
      "metadata": {
        "id": "Wtd3MZGg1kPm"
      }
    },
    {
      "cell_type": "code",
      "source": [
        "#crear una lista vacia\n",
        "mi_lista = []\n",
        "\n",
        "#Agregar elementos a la la lista\n",
        "mi_lista.append(1)\n",
        "mi_lista.append('Hola')\n",
        "mi_lista.append(True)\n",
        "#vizualizar datos\n",
        "mi_lista\n"
      ],
      "metadata": {
        "colab": {
          "base_uri": "https://localhost:8080/"
        },
        "id": "7dcXcnhr13eM",
        "outputId": "86a6bfbe-b3fa-467d-abba-cc5665d3f5e6"
      },
      "execution_count": null,
      "outputs": [
        {
          "output_type": "execute_result",
          "data": {
            "text/plain": [
              "[1, 'Hola', True]"
            ]
          },
          "metadata": {},
          "execution_count": 7
        }
      ]
    },
    {
      "cell_type": "code",
      "source": [
        "#cuantos elementos tiene la lista\n",
        "len(mi_lista)\n"
      ],
      "metadata": {
        "colab": {
          "base_uri": "https://localhost:8080/"
        },
        "id": "dlGWqiR82fNj",
        "outputId": "98d76dc2-dd75-4f02-cf91-b5a90ae3299a"
      },
      "execution_count": null,
      "outputs": [
        {
          "output_type": "execute_result",
          "data": {
            "text/plain": [
              "3"
            ]
          },
          "metadata": {},
          "execution_count": 8
        }
      ]
    },
    {
      "cell_type": "markdown",
      "source": [
        "#Función `list.insert()`\n",
        "Permite agregar un elemento indicando el índice y la posición `list.insert(indice,dato)`"
      ],
      "metadata": {
        "id": "HMHbzcOc26AU"
      }
    },
    {
      "cell_type": "code",
      "source": [
        "mi_lista.insert(2,34.5)\n",
        "mi_lista"
      ],
      "metadata": {
        "colab": {
          "base_uri": "https://localhost:8080/"
        },
        "id": "jsy58VPj0DJH",
        "outputId": "e08fa318-1f60-4491-9172-f04700eba0a1"
      },
      "execution_count": null,
      "outputs": [
        {
          "output_type": "execute_result",
          "data": {
            "text/plain": [
              "[1, 'Hola', 34.5, 34.5, 34.5, True]"
            ]
          },
          "metadata": {},
          "execution_count": 11
        }
      ]
    },
    {
      "cell_type": "markdown",
      "source": [
        "# Función `list.extend()`\n",
        "\n",
        "Permite agregar varios elementos a la lista al final `list.extend(iterable)` puede ser una lista, tupla, cadena de caracteres o cualquier objeto que represente una *secuencia*"
      ],
      "metadata": {
        "id": "aKhBEsVy49FH"
      }
    },
    {
      "cell_type": "code",
      "source": [
        "#lista de elementos\n",
        "numeros = [1,2,3,4,5]\n",
        "#lista que se va agregar a numeros\n",
        "numeros_primos = [1,2,3,5,7,11]\n",
        "#agregar elementos con la función extend\n",
        "numeros.extend(numeros_primos)\n",
        "numeros"
      ],
      "metadata": {
        "colab": {
          "base_uri": "https://localhost:8080/"
        },
        "id": "SHh4I_U25oNt",
        "outputId": "300b142b-b26d-4f13-d485-4df3273226d5"
      },
      "execution_count": null,
      "outputs": [
        {
          "output_type": "execute_result",
          "data": {
            "text/plain": [
              "[1, 2, 3, 4, 5, 1, 2, 3, 5, 7, 11]"
            ]
          },
          "metadata": {},
          "execution_count": 13
        }
      ]
    },
    {
      "cell_type": "code",
      "source": [
        "#Acceder a un elemento de una lista\n",
        "numeros[3]"
      ],
      "metadata": {
        "colab": {
          "base_uri": "https://localhost:8080/"
        },
        "id": "fVZSR5er4vY5",
        "outputId": "86c5cb1a-44cb-40a3-a90c-6713c73a4a4f"
      },
      "execution_count": null,
      "outputs": [
        {
          "output_type": "execute_result",
          "data": {
            "text/plain": [
              "4"
            ]
          },
          "metadata": {},
          "execution_count": 14
        }
      ]
    },
    {
      "cell_type": "code",
      "source": [
        "#Acceder al ultimo elemento\n",
        "numeros[-1]"
      ],
      "metadata": {
        "colab": {
          "base_uri": "https://localhost:8080/"
        },
        "id": "fpKOaUYb8sDQ",
        "outputId": "98f01f66-c4b0-4491-a487-738dcf4940fe"
      },
      "execution_count": null,
      "outputs": [
        {
          "output_type": "execute_result",
          "data": {
            "text/plain": [
              "11"
            ]
          },
          "metadata": {},
          "execution_count": 15
        }
      ]
    },
    {
      "cell_type": "code",
      "source": [
        "# acceso a un rago de elementos con la notción slicing[::]\n",
        "numeros[2:5]"
      ],
      "metadata": {
        "colab": {
          "base_uri": "https://localhost:8080/"
        },
        "id": "n16Hrujn813b",
        "outputId": "387ee1b3-d166-4650-c3dc-7904fafa5e32"
      },
      "execution_count": null,
      "outputs": [
        {
          "output_type": "execute_result",
          "data": {
            "text/plain": [
              "[3, 4, 5]"
            ]
          },
          "metadata": {},
          "execution_count": 16
        }
      ]
    },
    {
      "cell_type": "code",
      "source": [
        "#actualizar el valor de un elemento de una lista\n",
        "numeros[0]=0\n",
        "numeros"
      ],
      "metadata": {
        "colab": {
          "base_uri": "https://localhost:8080/"
        },
        "id": "A3bOitbX_YvB",
        "outputId": "28cd9cc0-5a70-4e51-85a1-9a5f79ae164d"
      },
      "execution_count": null,
      "outputs": [
        {
          "output_type": "execute_result",
          "data": {
            "text/plain": [
              "[0, 2, 3, 4, 5, 1, 2, 3, 5, 7, 11]"
            ]
          },
          "metadata": {},
          "execution_count": 18
        }
      ]
    },
    {
      "cell_type": "code",
      "source": [
        "#facilita la comprobación de un elmento en una lista\n",
        "numero = 11\n",
        "if numero in numeros:\n",
        "  print(f'El {numero} esta presente en la lista')\n",
        "else:\n",
        "  print(f'El {numero} no esta presente en la lista')\n"
      ],
      "metadata": {
        "colab": {
          "base_uri": "https://localhost:8080/"
        },
        "id": "BArwSmM3_cnP",
        "outputId": "258fa464-dfb5-437e-f531-5429ea7f7964"
      },
      "execution_count": null,
      "outputs": [
        {
          "output_type": "stream",
          "name": "stdout",
          "text": [
            "El 11 esta presente en la lista\n"
          ]
        }
      ]
    },
    {
      "cell_type": "code",
      "source": [
        "numero = 10\n",
        "if not numero in numeros:\n",
        "  print(f'El {numero} no esta presente en la lista')\n"
      ],
      "metadata": {
        "colab": {
          "base_uri": "https://localhost:8080/"
        },
        "id": "yiNTiidIBUWD",
        "outputId": "e328769a-c50d-4a53-9baf-526c43b48b35"
      },
      "execution_count": null,
      "outputs": [
        {
          "output_type": "stream",
          "name": "stdout",
          "text": [
            "El 10 no esta presente en la lista\n"
          ]
        }
      ]
    },
    {
      "cell_type": "code",
      "source": [
        "#copiar elementos de una lista co slicing\n",
        "numeros = numeros_primos[:]\n",
        "numeros"
      ],
      "metadata": {
        "colab": {
          "base_uri": "https://localhost:8080/"
        },
        "id": "4sHxmgZDCI7-",
        "outputId": "f7316b5a-4ee1-4737-c79d-c4ef989cc41e"
      },
      "execution_count": null,
      "outputs": [
        {
          "output_type": "execute_result",
          "data": {
            "text/plain": [
              "False"
            ]
          },
          "metadata": {},
          "execution_count": 27
        }
      ]
    },
    {
      "cell_type": "code",
      "source": [
        "#verificar si apuntan a la misma direccion\n",
        "numeros is numeros_primos"
      ],
      "metadata": {
        "colab": {
          "base_uri": "https://localhost:8080/"
        },
        "id": "A1AzChI1EjAT",
        "outputId": "eef9bd45-a988-4426-9ecd-b92f0c6c231f"
      },
      "execution_count": null,
      "outputs": [
        {
          "output_type": "execute_result",
          "data": {
            "text/plain": [
              "False"
            ]
          },
          "metadata": {},
          "execution_count": 28
        }
      ]
    },
    {
      "cell_type": "markdown",
      "source": [
        "#Función `list.remove()`\n",
        "Facilita la remoción de un elemento especifico en una lista"
      ],
      "metadata": {
        "id": "i9nDOv0dGCWq"
      }
    },
    {
      "cell_type": "code",
      "source": [
        "lenguaje = 'Go'\n",
        "if lenguaje in lenguajes:\n",
        "  lenguajes.remove(lenguaje)\n",
        "  print(f'se ha eliminado el elemento {lenguaje} de la lista')\n",
        "else:\n",
        "  print(f'No se ha encontrado el elemento {lenguaje} de la lista')\n"
      ],
      "metadata": {
        "colab": {
          "base_uri": "https://localhost:8080/"
        },
        "id": "-mERRNyAEtbt",
        "outputId": "a1c831e1-a5cd-430e-bc1f-66994c2c7fe3"
      },
      "execution_count": null,
      "outputs": [
        {
          "output_type": "stream",
          "name": "stdout",
          "text": [
            "se ha eliminado el elemento Go de la lista\n"
          ]
        }
      ]
    },
    {
      "cell_type": "code",
      "source": [
        "#verificar si se elimino\n",
        "lenguajes"
      ],
      "metadata": {
        "colab": {
          "base_uri": "https://localhost:8080/"
        },
        "id": "P1bXjAxqHFAm",
        "outputId": "419ae8b2-3b47-4bf8-977e-3ddb3115284d"
      },
      "execution_count": null,
      "outputs": [
        {
          "output_type": "execute_result",
          "data": {
            "text/plain": [
              "['Python', 'Java', 'C']"
            ]
          },
          "metadata": {},
          "execution_count": 33
        }
      ]
    },
    {
      "cell_type": "markdown",
      "source": [
        "#Función `list.sort()`\n",
        "\n",
        "Permite ordenar los elementos de una lista, cunado se ejecuta esta función los elementos de lista original se modifican."
      ],
      "metadata": {
        "id": "eQFc89iFHh2k"
      }
    },
    {
      "cell_type": "code",
      "source": [
        "lenguajes.sort()\n",
        "lenguajes"
      ],
      "metadata": {
        "colab": {
          "base_uri": "https://localhost:8080/"
        },
        "id": "GsbQNQdNHr4g",
        "outputId": "c813cc9f-7c5e-4001-887b-c94418583361"
      },
      "execution_count": null,
      "outputs": [
        {
          "output_type": "execute_result",
          "data": {
            "text/plain": [
              "['C', 'Java', 'Python']"
            ]
          },
          "metadata": {},
          "execution_count": 35
        }
      ]
    },
    {
      "cell_type": "markdown",
      "source": [
        "#Función `sorted()`\n",
        "Es una función incorporada en python.\n",
        "* No es una función de los objetos `list`\n",
        "* Esta función genera una nueva lista.\n",
        "* La lista original no se ve afecada.\n",
        "\n",
        "##Tiene dos tipos de ordenamiento:\n",
        "  1. Por defecto menor a mayor:  `sorted(lista)`\n",
        "  2. Orden de mayor a menor: `sorted(lista, reverse=True)`"
      ],
      "metadata": {
        "id": "ur8R5GKTMwdB"
      }
    },
    {
      "cell_type": "code",
      "source": [
        "impares=[2,9,5,1,3,4]\n",
        "sorted(impares)"
      ],
      "metadata": {
        "colab": {
          "base_uri": "https://localhost:8080/"
        },
        "id": "rDtAIwC9MusW",
        "outputId": "d085c2e4-9c97-4527-accb-2bdcd07ebcf2"
      },
      "execution_count": null,
      "outputs": [
        {
          "output_type": "execute_result",
          "data": {
            "text/plain": [
              "[1, 2, 3, 4, 5, 9]"
            ]
          },
          "metadata": {},
          "execution_count": 39
        }
      ]
    },
    {
      "cell_type": "code",
      "source": [
        "sorted(impares,reverse=True)\n"
      ],
      "metadata": {
        "colab": {
          "base_uri": "https://localhost:8080/"
        },
        "id": "CDh6SHUGOaGc",
        "outputId": "cfd63a04-783d-4ea5-abbb-eed6b29f1dbc"
      },
      "execution_count": null,
      "outputs": [
        {
          "output_type": "execute_result",
          "data": {
            "text/plain": [
              "[9, 5, 4, 3, 2, 1]"
            ]
          },
          "metadata": {},
          "execution_count": 38
        }
      ]
    },
    {
      "cell_type": "markdown",
      "source": [
        "#Función `list.reverse()`\n",
        "Invierte el contenido de una lista"
      ],
      "metadata": {
        "id": "6ggY6ARbTJO9"
      }
    },
    {
      "cell_type": "code",
      "source": [
        "lenguajes"
      ],
      "metadata": {
        "colab": {
          "base_uri": "https://localhost:8080/"
        },
        "id": "sC-hQaWGTUk7",
        "outputId": "dc496fa0-78e2-45b1-dcb8-75f3fea1ac21"
      },
      "execution_count": 40,
      "outputs": [
        {
          "output_type": "execute_result",
          "data": {
            "text/plain": [
              "['C', 'Java', 'Python']"
            ]
          },
          "metadata": {},
          "execution_count": 40
        }
      ]
    },
    {
      "cell_type": "code",
      "source": [
        "frontend = ['javascript','html','react','angular','vuejs']\n",
        "frontend.reverse()\n",
        "frontend"
      ],
      "metadata": {
        "colab": {
          "base_uri": "https://localhost:8080/"
        },
        "id": "-898sMfXTXa7",
        "outputId": "92554d2b-3db3-4402-c185-5f3226a88381"
      },
      "execution_count": 46,
      "outputs": [
        {
          "output_type": "execute_result",
          "data": {
            "text/plain": [
              "['vuejs', 'angular', 'react', 'html', 'javascript']"
            ]
          },
          "metadata": {},
          "execution_count": 46
        }
      ]
    },
    {
      "cell_type": "markdown",
      "source": [
        "#Función `list.pop()`\n",
        "Elimina un elemento desde una `posición(indice)` especifica.\n",
        "\n",
        "* Retorna como resultado el elemento que se a eliminado.\n",
        "* Por defecto elimina el ultimo elemento.\n",
        "* Se puede especificar el valor del índice a eliminar `list.pop(-2)`\n",
        "\n"
      ],
      "metadata": {
        "id": "wI7yzvIOUwDz"
      }
    },
    {
      "cell_type": "code",
      "source": [
        "lenguajes"
      ],
      "metadata": {
        "colab": {
          "base_uri": "https://localhost:8080/"
        },
        "id": "jwBLdT98VJoU",
        "outputId": "528dc350-9d6d-41cb-d0cf-4005482c0370"
      },
      "execution_count": 47,
      "outputs": [
        {
          "output_type": "execute_result",
          "data": {
            "text/plain": [
              "['C', 'Java', 'Python']"
            ]
          },
          "metadata": {},
          "execution_count": 47
        }
      ]
    },
    {
      "cell_type": "code",
      "source": [
        "#insertar un elemento indicando el índice\n",
        "lenguajes.insert(0,'Go')"
      ],
      "metadata": {
        "id": "Unrr4DZyVPS8"
      },
      "execution_count": 48,
      "outputs": []
    },
    {
      "cell_type": "code",
      "source": [
        "lenguajes"
      ],
      "metadata": {
        "colab": {
          "base_uri": "https://localhost:8080/"
        },
        "id": "v909KWepVUqA",
        "outputId": "3408810d-ab21-40e1-bc42-2fa86c399da1"
      },
      "execution_count": 49,
      "outputs": [
        {
          "output_type": "execute_result",
          "data": {
            "text/plain": [
              "['Go', 'C', 'Java', 'Python']"
            ]
          },
          "metadata": {},
          "execution_count": 49
        }
      ]
    },
    {
      "cell_type": "code",
      "source": [
        "#Eliminar el ultimo elemento retornando el valor eliminado\n",
        "lenguajes.pop()"
      ],
      "metadata": {
        "colab": {
          "base_uri": "https://localhost:8080/",
          "height": 35
        },
        "id": "8vkoYvhOVX73",
        "outputId": "a37cd260-09d8-477f-d5b5-a9c4d78e2ebb"
      },
      "execution_count": 50,
      "outputs": [
        {
          "output_type": "execute_result",
          "data": {
            "text/plain": [
              "'Python'"
            ],
            "application/vnd.google.colaboratory.intrinsic+json": {
              "type": "string"
            }
          },
          "metadata": {},
          "execution_count": 50
        }
      ]
    },
    {
      "cell_type": "code",
      "source": [
        "#Eliminar elemento especificando el índice\n",
        "lenguajes"
      ],
      "metadata": {
        "colab": {
          "base_uri": "https://localhost:8080/"
        },
        "id": "BKtZQEQVWRnz",
        "outputId": "2e230617-5a8a-41ef-f986-0fb7b2d90ec6"
      },
      "execution_count": 51,
      "outputs": [
        {
          "output_type": "execute_result",
          "data": {
            "text/plain": [
              "['Go', 'C', 'Java']"
            ]
          },
          "metadata": {},
          "execution_count": 51
        }
      ]
    },
    {
      "cell_type": "code",
      "source": [
        "lenguajes.pop(-2)"
      ],
      "metadata": {
        "colab": {
          "base_uri": "https://localhost:8080/",
          "height": 35
        },
        "id": "IDRt30FAWeN4",
        "outputId": "c802ce57-a46b-4f64-f22e-0ded58f275f0"
      },
      "execution_count": 52,
      "outputs": [
        {
          "output_type": "execute_result",
          "data": {
            "text/plain": [
              "'C'"
            ],
            "application/vnd.google.colaboratory.intrinsic+json": {
              "type": "string"
            }
          },
          "metadata": {},
          "execution_count": 52
        }
      ]
    },
    {
      "cell_type": "code",
      "source": [
        "lenguajes"
      ],
      "metadata": {
        "colab": {
          "base_uri": "https://localhost:8080/"
        },
        "id": "5PUHyMeWWjYY",
        "outputId": "11743abc-ba53-4629-8f5c-59939ab06dab"
      },
      "execution_count": 53,
      "outputs": [
        {
          "output_type": "execute_result",
          "data": {
            "text/plain": [
              "['Go', 'Java']"
            ]
          },
          "metadata": {},
          "execution_count": 53
        }
      ]
    },
    {
      "cell_type": "markdown",
      "source": [
        "#PREGUNTA: ¿Que ocurre si a la función `pop()` le pasamos un indice que no existe?\n",
        "RESPUESTA: Si el indice no existe en la lista, se genera el error `index.Error()`"
      ],
      "metadata": {
        "id": "6mhvvZkEXeoh"
      }
    },
    {
      "cell_type": "code",
      "source": [
        "try:\n",
        "  lenguajes.pop(6)\n",
        "except:\n",
        "  print('No existe el índice 6')"
      ],
      "metadata": {
        "colab": {
          "base_uri": "https://localhost:8080/"
        },
        "id": "rxhqBcfeXjJn",
        "outputId": "885b60e8-53e9-4ac5-9e29-164f4218f90d"
      },
      "execution_count": 54,
      "outputs": [
        {
          "output_type": "stream",
          "name": "stdout",
          "text": [
            "No existe el índice 6\n"
          ]
        }
      ]
    },
    {
      "cell_type": "markdown",
      "source": [
        "#Función `list.index()`\n",
        "\n",
        "Retorna el primer `indice` de un `elemento`, si no se encuentra ese `elemento` se genera el error `ValueError()`.\n",
        "\n",
        "* Por defecto: `lista.index(valor)`<br>\n",
        "* Indicando otravposición: `lista.index(valor,indice)`"
      ],
      "metadata": {
        "id": "E5z_IPdcYgWV"
      }
    },
    {
      "cell_type": "code",
      "source": [
        "enteros = [3,2,5,7,3,8,9,0,1]\n",
        "enteros.index(3)"
      ],
      "metadata": {
        "colab": {
          "base_uri": "https://localhost:8080/"
        },
        "id": "bi47hgtCY8-o",
        "outputId": "27068c9f-edea-4774-f45b-63e1f8218f26"
      },
      "execution_count": 57,
      "outputs": [
        {
          "output_type": "execute_result",
          "data": {
            "text/plain": [
              "0"
            ]
          },
          "metadata": {},
          "execution_count": 57
        }
      ]
    },
    {
      "cell_type": "code",
      "source": [
        "#especificar otra posición\n",
        "enteros.index(3,1)"
      ],
      "metadata": {
        "colab": {
          "base_uri": "https://localhost:8080/"
        },
        "id": "vTcD6RmGZWLt",
        "outputId": "24cc15b8-71f2-4e56-d605-b357348b800c"
      },
      "execution_count": 58,
      "outputs": [
        {
          "output_type": "execute_result",
          "data": {
            "text/plain": [
              "4"
            ]
          },
          "metadata": {},
          "execution_count": 58
        }
      ]
    },
    {
      "cell_type": "code",
      "source": [
        "num=10\n",
        "try:\n",
        "  enteros.index(num,1)\n",
        "except ValueError as e:\n",
        "  print('Mensaje: ', e)"
      ],
      "metadata": {
        "colab": {
          "base_uri": "https://localhost:8080/"
        },
        "id": "XG8x0WzgbU9k",
        "outputId": "cd960b32-2b94-463b-d9cc-6142f4bf1970"
      },
      "execution_count": 59,
      "outputs": [
        {
          "output_type": "stream",
          "name": "stdout",
          "text": [
            "Mensaje:  10 is not in list\n"
          ]
        }
      ]
    },
    {
      "cell_type": "markdown",
      "source": [
        "#Función `list.copy()`\n",
        "Genera una copia de los elementos de la lista."
      ],
      "metadata": {
        "id": "-kC1rrESb7BU"
      }
    },
    {
      "cell_type": "code",
      "source": [
        "copia_enteros = enteros.copy()\n",
        "copia_enteros"
      ],
      "metadata": {
        "colab": {
          "base_uri": "https://localhost:8080/"
        },
        "id": "9bpeNMUbcMYo",
        "outputId": "09b6f20e-e709-47c0-efee-26e99420481d"
      },
      "execution_count": 62,
      "outputs": [
        {
          "output_type": "execute_result",
          "data": {
            "text/plain": [
              "[3, 2, 5, 7, 3, 8, 9, 0, 1]"
            ]
          },
          "metadata": {},
          "execution_count": 62
        }
      ]
    },
    {
      "cell_type": "markdown",
      "source": [
        "#Función `list.count()`\n",
        "Cuenta el número de repeticiones de un elemento de una lista"
      ],
      "metadata": {
        "id": "M7erzR1Eczr8"
      }
    },
    {
      "cell_type": "code",
      "source": [
        "enteros.count(3)"
      ],
      "metadata": {
        "colab": {
          "base_uri": "https://localhost:8080/"
        },
        "id": "CZnhAlzqcaPN",
        "outputId": "516ace74-8714-4457-e352-8cea1edb03a7"
      },
      "execution_count": 67,
      "outputs": [
        {
          "output_type": "execute_result",
          "data": {
            "text/plain": [
              "2"
            ]
          },
          "metadata": {},
          "execution_count": 67
        }
      ]
    },
    {
      "cell_type": "markdown",
      "source": [
        "#Función `list.clear()`\n",
        "* Elimina todos los elementos de una lista, pero permanece la ubicación de memoria\n",
        "* `[]`: inicializa la lista generando una nueva ubicación de memoria"
      ],
      "metadata": {
        "id": "9yUr5oCedP7r"
      }
    },
    {
      "cell_type": "code",
      "source": [
        "#Ver el id de la ubicacion en memoria\n",
        "id(numeros)"
      ],
      "metadata": {
        "colab": {
          "base_uri": "https://localhost:8080/"
        },
        "id": "QNBwM_RLdalk",
        "outputId": "ee47df1e-8a01-4cd3-d18c-195f3a3f7dae"
      },
      "execution_count": 68,
      "outputs": [
        {
          "output_type": "execute_result",
          "data": {
            "text/plain": [
              "137142949830400"
            ]
          },
          "metadata": {},
          "execution_count": 68
        }
      ]
    },
    {
      "cell_type": "code",
      "source": [
        "#elimina todos los elementos pero permanece la ubicación de memoria\n",
        "numeros.clear()\n",
        "id(numeros)"
      ],
      "metadata": {
        "colab": {
          "base_uri": "https://localhost:8080/"
        },
        "id": "0XyUXt0Kdjsn",
        "outputId": "8a703018-a956-497e-98d2-70ed7cca4e22"
      },
      "execution_count": 71,
      "outputs": [
        {
          "output_type": "execute_result",
          "data": {
            "text/plain": [
              "137142949830400"
            ]
          },
          "metadata": {},
          "execution_count": 71
        }
      ]
    },
    {
      "cell_type": "code",
      "source": [
        "numeros=[1,2,3,4,5]\n",
        "id(numeros)"
      ],
      "metadata": {
        "colab": {
          "base_uri": "https://localhost:8080/"
        },
        "id": "-8n-MXageil9",
        "outputId": "d6933fd7-af61-44da-c673-fa7461a36b66"
      },
      "execution_count": 73,
      "outputs": [
        {
          "output_type": "execute_result",
          "data": {
            "text/plain": [
              "137142951468224"
            ]
          },
          "metadata": {},
          "execution_count": 73
        }
      ]
    },
    {
      "cell_type": "code",
      "source": [
        "numeros=[]\n",
        "id(numeros)"
      ],
      "metadata": {
        "colab": {
          "base_uri": "https://localhost:8080/"
        },
        "id": "xh4oJiJzevTS",
        "outputId": "cb151f89-c220-4065-e986-1d1599b59a4c"
      },
      "execution_count": 74,
      "outputs": [
        {
          "output_type": "execute_result",
          "data": {
            "text/plain": [
              "137142948794432"
            ]
          },
          "metadata": {},
          "execution_count": 74
        }
      ]
    },
    {
      "cell_type": "markdown",
      "source": [],
      "metadata": {
        "id": "iMaDGkwIfhKF"
      }
    },
    {
      "cell_type": "markdown",
      "source": [
        "#Función incorporada de python `len()`\n",
        "Elimina todo el contenido de lista, incluso elimina la variable que se creo para almacenar la lista."
      ],
      "metadata": {
        "id": "Cahs9LawfyqJ"
      }
    },
    {
      "cell_type": "code",
      "source": [
        "numeros=[i for i in range(10)]\n",
        "numeros"
      ],
      "metadata": {
        "colab": {
          "base_uri": "https://localhost:8080/"
        },
        "id": "PxW5heLPf6BX",
        "outputId": "aeae9c7a-b223-423c-938b-4f091a4eb7ae"
      },
      "execution_count": 78,
      "outputs": [
        {
          "output_type": "execute_result",
          "data": {
            "text/plain": [
              "[0, 1, 2, 3, 4, 5, 6, 7, 8, 9]"
            ]
          },
          "metadata": {},
          "execution_count": 78
        }
      ]
    },
    {
      "cell_type": "code",
      "source": [
        "id(numeros)"
      ],
      "metadata": {
        "colab": {
          "base_uri": "https://localhost:8080/"
        },
        "id": "gIUQZCoqgQC-",
        "outputId": "4de9c97b-3031-4758-e70a-01ba557085e7"
      },
      "execution_count": 79,
      "outputs": [
        {
          "output_type": "execute_result",
          "data": {
            "text/plain": [
              "137142950635392"
            ]
          },
          "metadata": {},
          "execution_count": 79
        }
      ]
    },
    {
      "cell_type": "code",
      "source": [
        "del(numeros)"
      ],
      "metadata": {
        "id": "McwLoAiAgK6P"
      },
      "execution_count": 80,
      "outputs": []
    },
    {
      "cell_type": "code",
      "source": [],
      "metadata": {
        "colab": {
          "base_uri": "https://localhost:8080/",
          "height": 175
        },
        "id": "tbe7HktJgVJr",
        "outputId": "c97b656e-4fff-4680-dfd6-a8eddb773774"
      },
      "execution_count": 82,
      "outputs": [
        {
          "output_type": "error",
          "ename": "NameError",
          "evalue": "ignored",
          "traceback": [
            "\u001b[0;31m---------------------------------------------------------------------------\u001b[0m",
            "\u001b[0;31mNameError\u001b[0m                                 Traceback (most recent call last)",
            "\u001b[0;32m<ipython-input-82-9a47a08e07f0>\u001b[0m in \u001b[0;36m<cell line: 1>\u001b[0;34m()\u001b[0m\n\u001b[0;32m----> 1\u001b[0;31m \u001b[0mid\u001b[0m\u001b[0;34m(\u001b[0m\u001b[0mnumeros\u001b[0m\u001b[0;34m)\u001b[0m\u001b[0;34m\u001b[0m\u001b[0;34m\u001b[0m\u001b[0m\n\u001b[0m",
            "\u001b[0;31mNameError\u001b[0m: name 'numeros' is not defined"
          ]
        }
      ]
    }
  ]
}